{
 "cells": [
  {
   "cell_type": "markdown",
   "metadata": {},
   "source": [
    "# Regressão Logística I\n",
    "## Tarefa I\n",
    "\n",
    "Neste exercício vamos trabalhar com a base \"Heart Disease Data Set\" disponível no site do [UCI](https://archive.ics.uci.edu/ml/datasets/heart+disease).\n",
    "\n",
    "Temos 303 indivíduos e vamos utilizar 13 variáveis disponíveis para prever a presença de doença cardíaca na variável ```num```(a 14$^a$ variável).\n",
    "\n",
    "A descrição das variáveis está recortada abaixo:\n",
    "- age: idade do paciente em anos\n",
    "- sex: sexo (1 = male; 0 = female)  \n",
    "- cp: tipo de dor no peito\n",
    "  - 1: angina típica\n",
    "  - 2: angina atípica\n",
    "  - 3: dor não-angina\n",
    "  - 4: assintomático\n",
    "- trestbps: pressão sanguínea em repouso (em mm Hg na admissão ao hospital\n",
    "- chol: colesterol sérico em mg/dl\n",
    "- fbs: (açúcar no sangue em jejum > 120 mg/dl) (1 = True; 0 = False)\n",
    "- restecg: resultados eletrocardiográficos em repouso\n",
    "  - 0: normal\n",
    "  - 1: tendo anormalidade da onda ST-T (Inversões de onda T e / ou ST com elevação ou depressão de > 0.05 mV)\n",
    "  - 2: mostrando hipertrofia ventricular esquerda provável ou definitiva pelos critérios de Estes\n",
    "- thalach: frequência cardíaca máxima alcançada\n",
    "- exang: angina induzida por exercício(1 = sim; 0 = não)\n",
    "- oldpeak = Depressão de ST induzida por exercício em relação ao repouso\n",
    "- slope: Depressão de ST induzida por exercício em relação ao repouso\n",
    "  - 1: inclinação ascendente\n",
    "  - 2: estável\n",
    "  - 3: inclinação descendente\n",
    "- ca: número de vasos principais (0-3) coloridos por fluorosopia\n",
    "- thal: 3 = normal; 6 = defeito corrigido; 7 = defeito reversível\n",
    "- num: diagnóstico de doença cardíaga (status de doença angiográfica)"
   ]
  },
  {
   "cell_type": "code",
   "execution_count": 231,
   "metadata": {},
   "outputs": [],
   "source": [
    "import pandas as pd\n",
    "import seaborn as sns\n",
    "import matplotlib.pyplot as plt\n",
    "import numpy as np\n",
    "\n",
    "import statsmodels.formula.api as smf"
   ]
  },
  {
   "cell_type": "code",
   "execution_count": 232,
   "metadata": {
    "tags": []
   },
   "outputs": [
    {
     "data": {
      "text/html": [
       "<div>\n",
       "<style scoped>\n",
       "    .dataframe tbody tr th:only-of-type {\n",
       "        vertical-align: middle;\n",
       "    }\n",
       "\n",
       "    .dataframe tbody tr th {\n",
       "        vertical-align: top;\n",
       "    }\n",
       "\n",
       "    .dataframe thead th {\n",
       "        text-align: right;\n",
       "    }\n",
       "</style>\n",
       "<table border=\"1\" class=\"dataframe\">\n",
       "  <thead>\n",
       "    <tr style=\"text-align: right;\">\n",
       "      <th></th>\n",
       "      <th>age</th>\n",
       "      <th>sex</th>\n",
       "      <th>cp</th>\n",
       "      <th>trestbps</th>\n",
       "      <th>chol</th>\n",
       "      <th>fbs</th>\n",
       "      <th>restecg</th>\n",
       "      <th>thalach</th>\n",
       "      <th>exang</th>\n",
       "      <th>oldpeak</th>\n",
       "      <th>slope</th>\n",
       "      <th>ca</th>\n",
       "      <th>thal</th>\n",
       "      <th>num</th>\n",
       "    </tr>\n",
       "  </thead>\n",
       "  <tbody>\n",
       "    <tr>\n",
       "      <th>0</th>\n",
       "      <td>63.0</td>\n",
       "      <td>1.0</td>\n",
       "      <td>1.0</td>\n",
       "      <td>145.0</td>\n",
       "      <td>233.0</td>\n",
       "      <td>1.0</td>\n",
       "      <td>2.0</td>\n",
       "      <td>150.0</td>\n",
       "      <td>0.0</td>\n",
       "      <td>2.3</td>\n",
       "      <td>3.0</td>\n",
       "      <td>0.0</td>\n",
       "      <td>6.0</td>\n",
       "      <td>0</td>\n",
       "    </tr>\n",
       "    <tr>\n",
       "      <th>1</th>\n",
       "      <td>67.0</td>\n",
       "      <td>1.0</td>\n",
       "      <td>4.0</td>\n",
       "      <td>160.0</td>\n",
       "      <td>286.0</td>\n",
       "      <td>0.0</td>\n",
       "      <td>2.0</td>\n",
       "      <td>108.0</td>\n",
       "      <td>1.0</td>\n",
       "      <td>1.5</td>\n",
       "      <td>2.0</td>\n",
       "      <td>3.0</td>\n",
       "      <td>3.0</td>\n",
       "      <td>2</td>\n",
       "    </tr>\n",
       "    <tr>\n",
       "      <th>2</th>\n",
       "      <td>67.0</td>\n",
       "      <td>1.0</td>\n",
       "      <td>4.0</td>\n",
       "      <td>120.0</td>\n",
       "      <td>229.0</td>\n",
       "      <td>0.0</td>\n",
       "      <td>2.0</td>\n",
       "      <td>129.0</td>\n",
       "      <td>1.0</td>\n",
       "      <td>2.6</td>\n",
       "      <td>2.0</td>\n",
       "      <td>2.0</td>\n",
       "      <td>7.0</td>\n",
       "      <td>1</td>\n",
       "    </tr>\n",
       "    <tr>\n",
       "      <th>3</th>\n",
       "      <td>37.0</td>\n",
       "      <td>1.0</td>\n",
       "      <td>3.0</td>\n",
       "      <td>130.0</td>\n",
       "      <td>250.0</td>\n",
       "      <td>0.0</td>\n",
       "      <td>0.0</td>\n",
       "      <td>187.0</td>\n",
       "      <td>0.0</td>\n",
       "      <td>3.5</td>\n",
       "      <td>3.0</td>\n",
       "      <td>0.0</td>\n",
       "      <td>3.0</td>\n",
       "      <td>0</td>\n",
       "    </tr>\n",
       "    <tr>\n",
       "      <th>4</th>\n",
       "      <td>41.0</td>\n",
       "      <td>0.0</td>\n",
       "      <td>2.0</td>\n",
       "      <td>130.0</td>\n",
       "      <td>204.0</td>\n",
       "      <td>0.0</td>\n",
       "      <td>2.0</td>\n",
       "      <td>172.0</td>\n",
       "      <td>0.0</td>\n",
       "      <td>1.4</td>\n",
       "      <td>1.0</td>\n",
       "      <td>0.0</td>\n",
       "      <td>3.0</td>\n",
       "      <td>0</td>\n",
       "    </tr>\n",
       "  </tbody>\n",
       "</table>\n",
       "</div>"
      ],
      "text/plain": [
       "    age  sex   cp  trestbps   chol  fbs  restecg  thalach  exang  oldpeak  \\\n",
       "0  63.0  1.0  1.0     145.0  233.0  1.0      2.0    150.0    0.0      2.3   \n",
       "1  67.0  1.0  4.0     160.0  286.0  0.0      2.0    108.0    1.0      1.5   \n",
       "2  67.0  1.0  4.0     120.0  229.0  0.0      2.0    129.0    1.0      2.6   \n",
       "3  37.0  1.0  3.0     130.0  250.0  0.0      0.0    187.0    0.0      3.5   \n",
       "4  41.0  0.0  2.0     130.0  204.0  0.0      2.0    172.0    0.0      1.4   \n",
       "\n",
       "   slope   ca thal  num  \n",
       "0    3.0  0.0  6.0    0  \n",
       "1    2.0  3.0  3.0    2  \n",
       "2    2.0  2.0  7.0    1  \n",
       "3    3.0  0.0  3.0    0  \n",
       "4    1.0  0.0  3.0    0  "
      ]
     },
     "execution_count": 232,
     "metadata": {},
     "output_type": "execute_result"
    }
   ],
   "source": [
    "url = 'https://archive.ics.uci.edu/ml/machine-learning-databases/heart-disease/processed.cleveland.data'\n",
    "\n",
    "df = pd.read_csv(url, \n",
    "                 names=['age', 'sex', 'cp', 'trestbps', 'chol', 'fbs', 'restecg',\n",
    "                        'thalach', 'exang', 'oldpeak', 'slope', 'ca', 'thal', 'num'])\n",
    "df.head()"
   ]
  },
  {
   "cell_type": "code",
   "execution_count": 233,
   "metadata": {
    "jupyter": {
     "outputs_hidden": true
    },
    "tags": []
   },
   "outputs": [
    {
     "data": {
      "text/plain": [
       "0      0\n",
       "1      1\n",
       "2      1\n",
       "3      0\n",
       "4      0\n",
       "      ..\n",
       "298    1\n",
       "299    1\n",
       "300    1\n",
       "301    1\n",
       "302    0\n",
       "Name: flag_doente, Length: 303, dtype: int64"
      ]
     },
     "execution_count": 233,
     "metadata": {},
     "output_type": "execute_result"
    }
   ],
   "source": [
    "df['flag_doente'] = (df['num'] != 0).astype('int64')\n",
    "df['flag_doente']"
   ]
  },
  {
   "cell_type": "markdown",
   "metadata": {},
   "source": [
    "1. Monte uma bivariada para a variável ```sex``` com as seguintes estatísticas:\n",
    "\n",
    "- Número de *saudáveis*\n",
    "- Número de *doentes*\n",
    "- Total\n",
    "- Quantidade média de doentes\n",
    "- *Odds*\n",
    "- *Odds ratio* (Use o total como referência)\n",
    "- Logito (LOG(*Odds*))\n",
    "- O LOG do *Odds ratio* (com o total como referência) é chamado de *Weight of Evidence* (WOE). Calcule-o."
   ]
  },
  {
   "cell_type": "code",
   "execution_count": 234,
   "metadata": {},
   "outputs": [
    {
     "data": {
      "text/html": [
       "<div>\n",
       "<style scoped>\n",
       "    .dataframe tbody tr th:only-of-type {\n",
       "        vertical-align: middle;\n",
       "    }\n",
       "\n",
       "    .dataframe tbody tr th {\n",
       "        vertical-align: top;\n",
       "    }\n",
       "\n",
       "    .dataframe thead th {\n",
       "        text-align: right;\n",
       "    }\n",
       "</style>\n",
       "<table border=\"1\" class=\"dataframe\">\n",
       "  <thead>\n",
       "    <tr style=\"text-align: right;\">\n",
       "      <th>flag_doente</th>\n",
       "      <th>Saudáveis</th>\n",
       "      <th>Doentes</th>\n",
       "      <th>Total</th>\n",
       "    </tr>\n",
       "    <tr>\n",
       "      <th>sex</th>\n",
       "      <th></th>\n",
       "      <th></th>\n",
       "      <th></th>\n",
       "    </tr>\n",
       "  </thead>\n",
       "  <tbody>\n",
       "    <tr>\n",
       "      <th>0.0</th>\n",
       "      <td>72</td>\n",
       "      <td>25</td>\n",
       "      <td>97</td>\n",
       "    </tr>\n",
       "    <tr>\n",
       "      <th>1.0</th>\n",
       "      <td>92</td>\n",
       "      <td>114</td>\n",
       "      <td>206</td>\n",
       "    </tr>\n",
       "    <tr>\n",
       "      <th>All</th>\n",
       "      <td>164</td>\n",
       "      <td>139</td>\n",
       "      <td>303</td>\n",
       "    </tr>\n",
       "  </tbody>\n",
       "</table>\n",
       "</div>"
      ],
      "text/plain": [
       "flag_doente  Saudáveis  Doentes  Total\n",
       "sex                                   \n",
       "0.0                 72       25     97\n",
       "1.0                 92      114    206\n",
       "All                164      139    303"
      ]
     },
     "execution_count": 234,
     "metadata": {},
     "output_type": "execute_result"
    }
   ],
   "source": [
    "tab = pd.crosstab(df['sex'], df['flag_doente'], margins = True).rename(columns = {0:'Saudáveis', 1:'Doentes', 'All':'Total'})\n",
    "tab"
   ]
  },
  {
   "cell_type": "code",
   "execution_count": 235,
   "metadata": {},
   "outputs": [
    {
     "data": {
      "text/plain": [
       "sex\n",
       "0.0     72\n",
       "1.0     92\n",
       "All    164\n",
       "Name: Saudáveis, dtype: int64"
      ]
     },
     "execution_count": 235,
     "metadata": {},
     "output_type": "execute_result"
    }
   ],
   "source": [
    "#Bivariada sex com número de saudáveis:\n",
    "tab['Saudáveis']"
   ]
  },
  {
   "cell_type": "code",
   "execution_count": 236,
   "metadata": {},
   "outputs": [
    {
     "data": {
      "text/plain": [
       "sex\n",
       "0.0     25\n",
       "1.0    114\n",
       "All    139\n",
       "Name: Doentes, dtype: int64"
      ]
     },
     "execution_count": 236,
     "metadata": {},
     "output_type": "execute_result"
    }
   ],
   "source": [
    "#Bivariada sex com número de doentes:\n",
    "tab['Doentes']"
   ]
  },
  {
   "cell_type": "code",
   "execution_count": 237,
   "metadata": {},
   "outputs": [
    {
     "data": {
      "text/plain": [
       "sex\n",
       "0.0     97\n",
       "1.0    206\n",
       "All    303\n",
       "Name: Total, dtype: int64"
      ]
     },
     "execution_count": 237,
     "metadata": {},
     "output_type": "execute_result"
    }
   ],
   "source": [
    "#Bivariada sex com números totais:\n",
    "tab['Total']"
   ]
  },
  {
   "cell_type": "code",
   "execution_count": 238,
   "metadata": {},
   "outputs": [
    {
     "data": {
      "text/plain": [
       "sex\n",
       "0.0    82.0\n",
       "1.0    82.0\n",
       "All    82.0\n",
       "Name: Média doentes, dtype: float64"
      ]
     },
     "execution_count": 238,
     "metadata": {},
     "output_type": "execute_result"
    }
   ],
   "source": [
    "#Quantidade média de doentes:\n",
    "tab['Média doentes'] = tab['Doentes'][0] + tab['Doentes'][1] / 2\n",
    "tab['Média doentes'] "
   ]
  },
  {
   "cell_type": "code",
   "execution_count": 239,
   "metadata": {},
   "outputs": [
    {
     "data": {
      "text/plain": [
       "sex\n",
       "0.0    0.347222\n",
       "1.0    1.239130\n",
       "All    0.847561\n",
       "Name: Chance de doença, dtype: float64"
      ]
     },
     "execution_count": 239,
     "metadata": {},
     "output_type": "execute_result"
    }
   ],
   "source": [
    "#Chance de doença por sexo:\n",
    "tab['Chance de doença'] = tab['Doentes']/tab['Saudáveis']\n",
    "tab['Chance de doença']"
   ]
  },
  {
   "cell_type": "code",
   "execution_count": 240,
   "metadata": {},
   "outputs": [
    {
     "data": {
      "text/plain": [
       "sex\n",
       "0.0    0.847561\n",
       "1.0    0.847561\n",
       "All    0.847561\n",
       "Name: Razão de chances  de doença, dtype: float64"
      ]
     },
     "execution_count": 240,
     "metadata": {},
     "output_type": "execute_result"
    }
   ],
   "source": [
    "#Razão de chances  de doença (Odds Ratio):\n",
    "tab['Razão de chances  de doença'] = tab['Doentes'][2] / tab['Saudáveis'][2]\n",
    "tab['Razão de chances  de doença']"
   ]
  },
  {
   "cell_type": "code",
   "execution_count": 241,
   "metadata": {},
   "outputs": [
    {
     "data": {
      "text/plain": [
       "sex\n",
       "0.0   -1.057790\n",
       "1.0    0.214410\n",
       "All   -0.165392\n",
       "Name: Logito, dtype: float64"
      ]
     },
     "execution_count": 241,
     "metadata": {},
     "output_type": "execute_result"
    }
   ],
   "source": [
    "#Logito (Log das chances de doença por sexo):\n",
    "tab['Logito'] = np.log(tab['Chance de doença'])\n",
    "tab['Logito']"
   ]
  },
  {
   "cell_type": "code",
   "execution_count": 242,
   "metadata": {},
   "outputs": [
    {
     "data": {
      "text/plain": [
       "sex\n",
       "0.0         NaN\n",
       "1.0         NaN\n",
       "All   -0.165392\n",
       "Name: WOE, dtype: float64"
      ]
     },
     "execution_count": 242,
     "metadata": {},
     "output_type": "execute_result"
    }
   ],
   "source": [
    "#Log da razão de chances por sexo(WOE):\n",
    "tab['WOE'] = np.log(tab['Razão de chances  de doença'][2:])\n",
    "tab['WOE']"
   ]
  },
  {
   "cell_type": "code",
   "execution_count": 243,
   "metadata": {},
   "outputs": [
    {
     "data": {
      "text/html": [
       "<div>\n",
       "<style scoped>\n",
       "    .dataframe tbody tr th:only-of-type {\n",
       "        vertical-align: middle;\n",
       "    }\n",
       "\n",
       "    .dataframe tbody tr th {\n",
       "        vertical-align: top;\n",
       "    }\n",
       "\n",
       "    .dataframe thead th {\n",
       "        text-align: right;\n",
       "    }\n",
       "</style>\n",
       "<table border=\"1\" class=\"dataframe\">\n",
       "  <thead>\n",
       "    <tr style=\"text-align: right;\">\n",
       "      <th>flag_doente</th>\n",
       "      <th>Saudáveis</th>\n",
       "      <th>Doentes</th>\n",
       "      <th>Total</th>\n",
       "      <th>Média doentes</th>\n",
       "      <th>Chance de doença</th>\n",
       "      <th>Razão de chances  de doença</th>\n",
       "      <th>Logito</th>\n",
       "      <th>WOE</th>\n",
       "    </tr>\n",
       "    <tr>\n",
       "      <th>sex</th>\n",
       "      <th></th>\n",
       "      <th></th>\n",
       "      <th></th>\n",
       "      <th></th>\n",
       "      <th></th>\n",
       "      <th></th>\n",
       "      <th></th>\n",
       "      <th></th>\n",
       "    </tr>\n",
       "  </thead>\n",
       "  <tbody>\n",
       "    <tr>\n",
       "      <th>0.0</th>\n",
       "      <td>72</td>\n",
       "      <td>25</td>\n",
       "      <td>97</td>\n",
       "      <td>82.0</td>\n",
       "      <td>0.347222</td>\n",
       "      <td>0.847561</td>\n",
       "      <td>-1.057790</td>\n",
       "      <td>NaN</td>\n",
       "    </tr>\n",
       "    <tr>\n",
       "      <th>1.0</th>\n",
       "      <td>92</td>\n",
       "      <td>114</td>\n",
       "      <td>206</td>\n",
       "      <td>82.0</td>\n",
       "      <td>1.239130</td>\n",
       "      <td>0.847561</td>\n",
       "      <td>0.214410</td>\n",
       "      <td>NaN</td>\n",
       "    </tr>\n",
       "    <tr>\n",
       "      <th>All</th>\n",
       "      <td>164</td>\n",
       "      <td>139</td>\n",
       "      <td>303</td>\n",
       "      <td>82.0</td>\n",
       "      <td>0.847561</td>\n",
       "      <td>0.847561</td>\n",
       "      <td>-0.165392</td>\n",
       "      <td>-0.165392</td>\n",
       "    </tr>\n",
       "  </tbody>\n",
       "</table>\n",
       "</div>"
      ],
      "text/plain": [
       "flag_doente  Saudáveis  Doentes  Total  Média doentes  Chance de doença  \\\n",
       "sex                                                                       \n",
       "0.0                 72       25     97           82.0          0.347222   \n",
       "1.0                 92      114    206           82.0          1.239130   \n",
       "All                164      139    303           82.0          0.847561   \n",
       "\n",
       "flag_doente  Razão de chances  de doença    Logito       WOE  \n",
       "sex                                                           \n",
       "0.0                             0.847561 -1.057790       NaN  \n",
       "1.0                             0.847561  0.214410       NaN  \n",
       "All                             0.847561 -0.165392 -0.165392  "
      ]
     },
     "execution_count": 243,
     "metadata": {},
     "output_type": "execute_result"
    }
   ],
   "source": [
    "#Exibindo tudo em um dataframe:\n",
    "tab = tab.rename(columns = {0:'Saudáveis', 1:'Doentes', 'All':'Total'})\n",
    "tab"
   ]
  },
  {
   "cell_type": "markdown",
   "metadata": {},
   "source": [
    "2. Monte uma bivariada para a variável ```age``` com as seguintes estatísticas:\n",
    "- Categorize a variável em 5 grupos\n",
    "- Calcule as mesmas quantidades calculadas no execício anterior\n",
    "- Calcule também o valor médio da variável ```age```"
   ]
  },
  {
   "cell_type": "code",
   "execution_count": 244,
   "metadata": {},
   "outputs": [
    {
     "name": "stdout",
     "output_type": "stream",
     "text": [
      "29.0\n",
      "77.0\n"
     ]
    }
   ],
   "source": [
    "#Verificando valores mínimos e máximos para definir a categorização:\n",
    "print(df['age'].min())\n",
    "print(df['age'].max())"
   ]
  },
  {
   "cell_type": "code",
   "execution_count": 245,
   "metadata": {},
   "outputs": [],
   "source": [
    "#Categorizando a variável 'age' por intervalos:\n",
    "df['age_cat'] = pd.cut(df['age'], bins = [29, 39, 49, 59, 69, 79], labels = ['29 a 38 anos', '39 a 48 anos', '49 a 58 anos', '59 a 68 anos', '69 a 79 anos'])"
   ]
  },
  {
   "cell_type": "code",
   "execution_count": 246,
   "metadata": {},
   "outputs": [
    {
     "data": {
      "text/html": [
       "<div>\n",
       "<style scoped>\n",
       "    .dataframe tbody tr th:only-of-type {\n",
       "        vertical-align: middle;\n",
       "    }\n",
       "\n",
       "    .dataframe tbody tr th {\n",
       "        vertical-align: top;\n",
       "    }\n",
       "\n",
       "    .dataframe thead th {\n",
       "        text-align: right;\n",
       "    }\n",
       "</style>\n",
       "<table border=\"1\" class=\"dataframe\">\n",
       "  <thead>\n",
       "    <tr style=\"text-align: right;\">\n",
       "      <th>flag_doente</th>\n",
       "      <th>Saudáveis</th>\n",
       "      <th>Doentes</th>\n",
       "      <th>Total</th>\n",
       "      <th>Média de doentes</th>\n",
       "      <th>Chance de doença</th>\n",
       "      <th>Razão de chances  de doença</th>\n",
       "      <th>Logito</th>\n",
       "      <th>WOE</th>\n",
       "    </tr>\n",
       "    <tr>\n",
       "      <th>age_cat</th>\n",
       "      <th></th>\n",
       "      <th></th>\n",
       "      <th></th>\n",
       "      <th></th>\n",
       "      <th></th>\n",
       "      <th></th>\n",
       "      <th></th>\n",
       "      <th></th>\n",
       "    </tr>\n",
       "  </thead>\n",
       "  <tbody>\n",
       "    <tr>\n",
       "      <th>29 a 38 anos</th>\n",
       "      <td>10</td>\n",
       "      <td>4</td>\n",
       "      <td>14</td>\n",
       "      <td>27.8</td>\n",
       "      <td>0.400000</td>\n",
       "      <td>0.024540</td>\n",
       "      <td>-0.916291</td>\n",
       "      <td>-3.707456</td>\n",
       "    </tr>\n",
       "    <tr>\n",
       "      <th>39 a 48 anos</th>\n",
       "      <td>50</td>\n",
       "      <td>22</td>\n",
       "      <td>72</td>\n",
       "      <td>27.8</td>\n",
       "      <td>0.440000</td>\n",
       "      <td>0.134969</td>\n",
       "      <td>-0.820981</td>\n",
       "      <td>-2.002708</td>\n",
       "    </tr>\n",
       "    <tr>\n",
       "      <th>49 a 58 anos</th>\n",
       "      <td>65</td>\n",
       "      <td>60</td>\n",
       "      <td>125</td>\n",
       "      <td>27.8</td>\n",
       "      <td>0.923077</td>\n",
       "      <td>0.368098</td>\n",
       "      <td>-0.080043</td>\n",
       "      <td>-0.999406</td>\n",
       "    </tr>\n",
       "    <tr>\n",
       "      <th>59 a 68 anos</th>\n",
       "      <td>32</td>\n",
       "      <td>49</td>\n",
       "      <td>81</td>\n",
       "      <td>27.8</td>\n",
       "      <td>1.531250</td>\n",
       "      <td>0.300613</td>\n",
       "      <td>0.426084</td>\n",
       "      <td>-1.201930</td>\n",
       "    </tr>\n",
       "    <tr>\n",
       "      <th>69 a 79 anos</th>\n",
       "      <td>6</td>\n",
       "      <td>4</td>\n",
       "      <td>10</td>\n",
       "      <td>27.8</td>\n",
       "      <td>0.666667</td>\n",
       "      <td>0.024540</td>\n",
       "      <td>-0.405465</td>\n",
       "      <td>-3.707456</td>\n",
       "    </tr>\n",
       "    <tr>\n",
       "      <th>All</th>\n",
       "      <td>163</td>\n",
       "      <td>139</td>\n",
       "      <td>302</td>\n",
       "      <td>27.8</td>\n",
       "      <td>0.852761</td>\n",
       "      <td>0.852761</td>\n",
       "      <td>-0.159276</td>\n",
       "      <td>-0.159276</td>\n",
       "    </tr>\n",
       "  </tbody>\n",
       "</table>\n",
       "</div>"
      ],
      "text/plain": [
       "flag_doente   Saudáveis  Doentes  Total  Média de doentes  Chance de doença  \\\n",
       "age_cat                                                                       \n",
       "29 a 38 anos         10        4     14              27.8          0.400000   \n",
       "39 a 48 anos         50       22     72              27.8          0.440000   \n",
       "49 a 58 anos         65       60    125              27.8          0.923077   \n",
       "59 a 68 anos         32       49     81              27.8          1.531250   \n",
       "69 a 79 anos          6        4     10              27.8          0.666667   \n",
       "All                 163      139    302              27.8          0.852761   \n",
       "\n",
       "flag_doente   Razão de chances  de doença    Logito       WOE  \n",
       "age_cat                                                        \n",
       "29 a 38 anos                     0.024540 -0.916291 -3.707456  \n",
       "39 a 48 anos                     0.134969 -0.820981 -2.002708  \n",
       "49 a 58 anos                     0.368098 -0.080043 -0.999406  \n",
       "59 a 68 anos                     0.300613  0.426084 -1.201930  \n",
       "69 a 79 anos                     0.024540 -0.405465 -3.707456  \n",
       "All                              0.852761 -0.159276 -0.159276  "
      ]
     },
     "execution_count": 246,
     "metadata": {},
     "output_type": "execute_result"
    }
   ],
   "source": [
    "#Cruzando a variável criada com a variável 'flag_doente':\n",
    "tab2 = pd.crosstab(df['age_cat'], df['flag_doente'], margins = True).rename(columns = {0:'Saudáveis', 1:'Doentes', 'All':'Total'})\n",
    "#Calculando a média de doentes:\n",
    "tab2['Média de doentes'] = tab2['Doentes'][:5].mean()\n",
    "#Calculando a chance de doença:\n",
    "tab2['Chance de doença'] = tab2['Doentes']/tab2['Saudáveis']\n",
    "#Calculando a razão de chances  de doença (Odds Ratio):\n",
    "tab2['Razão de chances  de doença'] = tab2['Doentes'] / tab2['Saudáveis'][5]\n",
    "#Calculando a chance de doença por grupos:\n",
    "tab2['Logito'] = np.log(tab2['Chance de doença'])\n",
    "#Calculando a razão de chances de doença por idade(WOE):\n",
    "tab2['WOE'] = np.log(tab2['Razão de chances  de doença'])\n",
    "tab2"
   ]
  },
  {
   "cell_type": "markdown",
   "metadata": {},
   "source": [
    "3. Visualize a informação da bivariada construída acima através de um gráfico da sua escolha."
   ]
  },
  {
   "cell_type": "code",
   "execution_count": 247,
   "metadata": {},
   "outputs": [
    {
     "data": {
      "text/plain": [
       "<Axes: xlabel='flag_doente', ylabel='age_cat'>"
      ]
     },
     "execution_count": 247,
     "metadata": {},
     "output_type": "execute_result"
    },
    {
     "data": {
      "image/png": "[encoded data removed]",
      "text/plain": [
       "<Figure size 640x480 with 2 Axes>"
      ]
     },
     "metadata": {},
     "output_type": "display_data"
    }
   ],
   "source": [
    "sns.heatmap(tab2, cmap='Blues', annot=True)"
   ]
  }
 ],
 "metadata": {
  "kernelspec": {
   "display_name": "Python 3 (ipykernel)",
   "language": "python",
   "name": "python3"
  },
  "language_info": {
   "codemirror_mode": {
    "name": "ipython",
    "version": 3
   },
   "file_extension": ".py",
   "mimetype": "text/x-python",
   "name": "python",
   "nbconvert_exporter": "python",
   "pygments_lexer": "ipython3",
   "version": "3.10.9"
  }
 },
 "nbformat": 4,
 "nbformat_minor": 4
}
