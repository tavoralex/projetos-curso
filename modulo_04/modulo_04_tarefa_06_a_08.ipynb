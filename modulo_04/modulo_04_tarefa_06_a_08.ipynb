{
 "cells": [
  {
   "cell_type": "markdown",
   "metadata": {},
   "source": [
    "# Tarefa 03\n",
    "\n",
    "- Leia os enunciados com atenção\n",
    "- Saiba que pode haver mais de uma resposta correta\n",
    "- Insira novas células de código sempre que achar necessário\n",
    "- Em caso de dúvidas, procure os Tutores\n",
    "- Divirta-se :)"
   ]
  },
  {
   "cell_type": "code",
   "execution_count": 2,
   "metadata": {},
   "outputs": [],
   "source": [
    "import pandas as pd\n",
    "import requests"
   ]
  },
  {
   "cell_type": "markdown",
   "metadata": {},
   "source": [
    "####  1) Lendo de APIs\n",
    "Vimos em aula como carregar dados públicos do governo através de um API (*Application Programming Interface*). No exemplo de aula, baixamos os dados de pedidos de verificação de limites (PVL) realizados por estados, e selecionamos apenas aqueles referentes ao estado de São Paulo.\n",
    "\n",
    "1. Repita os mesmos passos feitos em aula, mas selecione os PVLs realizados por municípios no estado do Rio de Janeiro.\n",
    "2. Quais são os três *status* das solicitações mais frequentes na base? Quais são suas frequências?\n",
    "3. Construa uma nova variável que contenha o ano do **status**. Observe que ```data_status``` vem como tipo *object* no **DataFrame**. Dica: você pode usar o método ```.str``` para transformar o tipo da variável em string, em seguida um método como [**slice()**](https://pandas.pydata.org/docs/reference/api/pandas.Series.str.slice.html) ou [**split()**](https://pandas.pydata.org/pandas-docs/stable/reference/api/pandas.Series.str.split.html).\n",
    "4. Indique a frequência de cada ano do campo construído no item (3)."
   ]
  },
  {
   "cell_type": "code",
   "execution_count": 65,
   "metadata": {
    "scrolled": true
   },
   "outputs": [
    {
     "data": {
      "text/html": [
       "<div>\n",
       "<style scoped>\n",
       "    .dataframe tbody tr th:only-of-type {\n",
       "        vertical-align: middle;\n",
       "    }\n",
       "\n",
       "    .dataframe tbody tr th {\n",
       "        vertical-align: top;\n",
       "    }\n",
       "\n",
       "    .dataframe thead th {\n",
       "        text-align: right;\n",
       "    }\n",
       "</style>\n",
       "<table border=\"1\" class=\"dataframe\">\n",
       "  <thead>\n",
       "    <tr style=\"text-align: right;\">\n",
       "      <th></th>\n",
       "      <th>id_pleito</th>\n",
       "      <th>tipo_interessado</th>\n",
       "      <th>interessado</th>\n",
       "      <th>cod_ibge</th>\n",
       "      <th>uf</th>\n",
       "      <th>num_pvl</th>\n",
       "      <th>status</th>\n",
       "      <th>num_processo</th>\n",
       "      <th>data_protocolo</th>\n",
       "      <th>tipo_operacao</th>\n",
       "      <th>finalidade</th>\n",
       "      <th>tipo_credor</th>\n",
       "      <th>credor</th>\n",
       "      <th>moeda</th>\n",
       "      <th>valor</th>\n",
       "      <th>pvl_assoc_divida</th>\n",
       "      <th>pvl_contradado_credor</th>\n",
       "      <th>data_status</th>\n",
       "    </tr>\n",
       "  </thead>\n",
       "  <tbody>\n",
       "    <tr>\n",
       "      <th>0</th>\n",
       "      <td>28822</td>\n",
       "      <td>Município</td>\n",
       "      <td>Resende</td>\n",
       "      <td>3304201</td>\n",
       "      <td>RJ</td>\n",
       "      <td>PVL02.001389/2018-28</td>\n",
       "      <td>Deferido</td>\n",
       "      <td>17944.105556/2018-71</td>\n",
       "      <td>2018-07-10T20:20:13Z</td>\n",
       "      <td>Operação contratual interna</td>\n",
       "      <td>Infraestrutura</td>\n",
       "      <td>Instituição Financeira Nacional</td>\n",
       "      <td>Banco do Brasil S/A</td>\n",
       "      <td>Real</td>\n",
       "      <td>7000000.0</td>\n",
       "      <td>0</td>\n",
       "      <td>1</td>\n",
       "      <td>12/07/2018</td>\n",
       "    </tr>\n",
       "    <tr>\n",
       "      <th>1</th>\n",
       "      <td>38893</td>\n",
       "      <td>Município</td>\n",
       "      <td>Paty do Alferes</td>\n",
       "      <td>3303856</td>\n",
       "      <td>RJ</td>\n",
       "      <td>PVL02.007600/2019-05</td>\n",
       "      <td>Deferido (PVL-IF)</td>\n",
       "      <td>None</td>\n",
       "      <td>None</td>\n",
       "      <td>Operação contratual interna</td>\n",
       "      <td>Aquisição de máquinas, equipamentos e veículos</td>\n",
       "      <td>Instituição Financeira Nacional</td>\n",
       "      <td>Agência de Fomento do Estado do Rio de Janeiro</td>\n",
       "      <td>Real</td>\n",
       "      <td>3512000.0</td>\n",
       "      <td>0</td>\n",
       "      <td>1</td>\n",
       "      <td>30/10/2019</td>\n",
       "    </tr>\n",
       "  </tbody>\n",
       "</table>\n",
       "</div>"
      ],
      "text/plain": [
       "   id_pleito tipo_interessado      interessado  cod_ibge  uf  \\\n",
       "0      28822        Município          Resende   3304201  RJ   \n",
       "1      38893        Município  Paty do Alferes   3303856  RJ   \n",
       "\n",
       "                num_pvl             status          num_processo  \\\n",
       "0  PVL02.001389/2018-28           Deferido  17944.105556/2018-71   \n",
       "1  PVL02.007600/2019-05  Deferido (PVL-IF)                  None   \n",
       "\n",
       "         data_protocolo                tipo_operacao  \\\n",
       "0  2018-07-10T20:20:13Z  Operação contratual interna   \n",
       "1                  None  Operação contratual interna   \n",
       "\n",
       "                                       finalidade  \\\n",
       "0                                  Infraestrutura   \n",
       "1  Aquisição de máquinas, equipamentos e veículos   \n",
       "\n",
       "                       tipo_credor  \\\n",
       "0  Instituição Financeira Nacional   \n",
       "1  Instituição Financeira Nacional   \n",
       "\n",
       "                                           credor moeda      valor  \\\n",
       "0                             Banco do Brasil S/A  Real  7000000.0   \n",
       "1  Agência de Fomento do Estado do Rio de Janeiro  Real  3512000.0   \n",
       "\n",
       "   pvl_assoc_divida  pvl_contradado_credor data_status  \n",
       "0                 0                      1  12/07/2018  \n",
       "1                 0                      1  30/10/2019  "
      ]
     },
     "execution_count": 65,
     "metadata": {},
     "output_type": "execute_result"
    }
   ],
   "source": [
    "# 1) Seu código aqui\n",
    "\n",
    "url_pvl_munrj = 'https://apidatalake.tesouro.gov.br/ords/sadipem/tt/pvl?uf=RJ&tipo_interessado=Munic%C3%ADpio'\n",
    "r = requests.get(url_pvl_munrj)\n",
    "r.status_code\n",
    "data_r = r.json()\n",
    "df_r = pd.DataFrame(data_r['items'])\n",
    "df_r.head(2)"
   ]
  },
  {
   "cell_type": "code",
   "execution_count": 28,
   "metadata": {},
   "outputs": [
    {
     "data": {
      "text/plain": [
       "Deferido                                                 93\n",
       "Arquivado                                                53\n",
       "Regularizado                                             25\n",
       "Arquivado por decurso de prazo                           23\n",
       "Deferido (PVL-IF)                                        16\n",
       "Encaminhado à PGFN com manifestação técnica favorável    13\n",
       "Arquivado a pedido                                        6\n",
       "Em retificação pelo interessado                           4\n",
       "Em retificação pelo interessado (PVL-IF)                  1\n",
       "Pendente de regularização                                 1\n",
       "Name: status, dtype: int64"
      ]
     },
     "execution_count": 28,
     "metadata": {},
     "output_type": "execute_result"
    }
   ],
   "source": [
    "# 2) Seu código aqui\n",
    "\n",
    "df_r.status.value_counts()"
   ]
  },
  {
   "cell_type": "code",
   "execution_count": 118,
   "metadata": {},
   "outputs": [
    {
     "data": {
      "text/plain": [
       "<bound method Series.info of 0      2018\n",
       "1      2019\n",
       "2      2019\n",
       "3      2019\n",
       "4      2022\n",
       "       ... \n",
       "230    2019\n",
       "231    2011\n",
       "232    2010\n",
       "233    2009\n",
       "234    2008\n",
       "Name: ano_status, Length: 235, dtype: object>"
      ]
     },
     "execution_count": 118,
     "metadata": {},
     "output_type": "execute_result"
    }
   ],
   "source": [
    "# 3) Seu código aqui\n",
    "\n",
    "df_r_copy = df_r.copy()\n",
    "df_r_copy['ano_status'] = df_r_copy['data_status'].str.slice(start=-4)\n",
    "df_r_copy['ano_status'].info"
   ]
  },
  {
   "cell_type": "code",
   "execution_count": 46,
   "metadata": {},
   "outputs": [
    {
     "data": {
      "text/plain": [
       "2008    37\n",
       "2007    29\n",
       "2014    20\n",
       "2010    19\n",
       "2019    17\n",
       "2020    15\n",
       "2013    15\n",
       "2022    14\n",
       "2012    13\n",
       "2011    10\n",
       "2015     9\n",
       "2009     9\n",
       "2021     5\n",
       "2017     5\n",
       "2006     4\n",
       "2002     4\n",
       "2016     4\n",
       "2018     4\n",
       "2004     1\n",
       "2003     1\n",
       "Name: ano_status, dtype: int64"
      ]
     },
     "execution_count": 46,
     "metadata": {},
     "output_type": "execute_result"
    }
   ],
   "source": [
    "# 4) Seu código aqui\n",
    "\n",
    "df_r_copy['ano_status'].value_counts()"
   ]
  },
  {
   "cell_type": "markdown",
   "metadata": {},
   "source": [
    "####  2) Melhorando a interação com o API\n",
    "Observe dois URLs de consultas diferentes, por exemplo o URL utilizado em aula, e o URL feito no exercício anterior. Compare-os e observe as diferenças.\n",
    "\n",
    "1. Faça uma função em Python que recebe como argumento o UF da consulta e o tipo de interessado (```'Estado'```ou ```Município```), e que devolve os dados da consulta no formato *DataFrame*.\n",
    "2. Quantas solicitações para o Estado podem ser consultadas para Minas Gerais com *status* em 'Arquivado por decurso de prazo' estão registradas?\n",
    "3. Qual é o município da Bahia com mais solicitações deferidas?\n",
    "4. Salve um arquivo .csv com os dados de solicitações da Bahia, com interessado = 'Estado'"
   ]
  },
  {
   "cell_type": "code",
   "execution_count": 94,
   "metadata": {},
   "outputs": [],
   "source": [
    "#1) Seu código aqui\n",
    "\n",
    "def chama_df_UF(UF, tipo_interessado):\n",
    "    url_pvl_uf = f'https://apidatalake.tesouro.gov.br/ords/sadipem/tt/pvl?uf={UF}&tipo_interessado={tipo_interessado}'\n",
    "    r = requests.get(url_pvl_uf)\n",
    "    r.status_code\n",
    "    data_r = r.json()\n",
    "    df_r = pd.DataFrame(data_r['items'])\n",
    "    return df_r"
   ]
  },
  {
   "cell_type": "code",
   "execution_count": 97,
   "metadata": {},
   "outputs": [
    {
     "data": {
      "text/plain": [
       "Encaminhado à PGFN com manifestação técnica favorável    20\n",
       "Deferido                                                  7\n",
       "Arquivado a pedido                                        5\n",
       "Arquivado pela STN                                        3\n",
       "Arquivado                                                 3\n",
       "Indeferido                                                1\n",
       "Arquivado por decurso de prazo                            1\n",
       "Name: status, dtype: int64"
      ]
     },
     "execution_count": 97,
     "metadata": {},
     "output_type": "execute_result"
    }
   ],
   "source": [
    "# 2) Seu código aqui\n",
    "\n",
    "chama_df_UF('MG', 'Estado').status.value_counts()"
   ]
  },
  {
   "cell_type": "code",
   "execution_count": 104,
   "metadata": {},
   "outputs": [
    {
     "data": {
      "text/plain": [
       "Luís Eduardo Magalhães    14\n",
       "Vitória da Conquista      11\n",
       "Camaçari                  10\n",
       "Lauro de Freitas          10\n",
       "Barreiras                  9\n",
       "                          ..\n",
       "Coronel João Sá            1\n",
       "São Sebastião do Passé     1\n",
       "Sobradinho                 1\n",
       "Alcobaça                   1\n",
       "Barra                      1\n",
       "Name: interessado, Length: 175, dtype: int64"
      ]
     },
     "execution_count": 104,
     "metadata": {},
     "output_type": "execute_result"
    }
   ],
   "source": [
    "# 3) Seu código aqui\n",
    "\n",
    "val = chama_df_UF('BA', 'Município').status=='Deferido'\n",
    "chama_df_UF('BA', 'Município').interessado[val].value_counts()"
   ]
  },
  {
   "cell_type": "code",
   "execution_count": 112,
   "metadata": {},
   "outputs": [],
   "source": [
    "# 4) Seu código aqui\n",
    "\n",
    "chama_df_UF('BA', 'Estado').to_csv('solicitacoes_estado_bahia.csv', index=False)"
   ]
  }
 ],
 "metadata": {
  "kernelspec": {
   "display_name": "Python 3 (ipykernel)",
   "language": "python",
   "name": "python3"
  },
  "language_info": {
   "codemirror_mode": {
    "name": "ipython",
    "version": 3
   },
   "file_extension": ".py",
   "mimetype": "text/x-python",
   "name": "python",
   "nbconvert_exporter": "python",
   "pygments_lexer": "ipython3",
   "version": "3.9.12"
  }
 },
 "nbformat": 4,
 "nbformat_minor": 4
}
