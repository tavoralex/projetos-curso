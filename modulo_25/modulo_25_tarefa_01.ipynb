{
 "cells": [
  {
   "cell_type": "markdown",
   "metadata": {},
   "source": [
    "# Cálculo - Tarefa 01\n",
    "\n",
    "1. Marque quais desses métodos/algoritmos muito populares em ciência de dados são baseados no uso de derivada:\n",
    "\n",
    "    1. Método Mínimos Quadrados\n",
    "    2. Gradiente descendente\n",
    "    3. Newton Raphson\n",
    "    4. CART (Árvore de decisão)"
   ]
  },
  {
   "cell_type": "markdown",
   "metadata": {},
   "source": [
    "    A.Método Mínimos quadrados: o método de mínimos quadrados é baseado na soma dos quadrados dos resíduos, que são as diferenças entre os valores observados e os valores estimados pelo modelo. As derivadas podem ser usadas para simplificar a solução do método de mínimos quadrados, mas não são essenciais para o método.\n",
    "\n",
    "    B.Gradiente descendente: o gradiente descendente é um método de otimização que encontra o mínimo de uma função de perda (loss function). A função de perda é a função que se precisa minimizar, e o gradiente da função de perda segue uma direção na qual a função de perda está aumentando mais rapidamente.\n",
    "\n",
    "    C.Newton Raphson: O método Newton-Raphson é um algoritmo utilizado para encontrar as raízes de uma função. É um método iterativo que utiliza a derivada da função para melhorar a precisão da estimativa da raiz em cada iteração.\n",
    "\n",
    "    D.CART: as árvores de decisão são construídas dividindo os dados em subconjuntos cada vez menores, com base em um conjunto de atributos.\n",
    "\n",
    "\n",
    "#### Portanto, as respostas são B e C."
   ]
  },
  {
   "cell_type": "markdown",
   "metadata": {},
   "source": [
    "2. Dada uma base de dados com uma variável resposta $y$ e um conjunto de variáveis explicativas. Considere uma estrutura de um modelo de regressão. Explique com suas palavras por que não é possível obter parâmetros que forneçam um erro quadrático médio (EQM) menor que o obtido com estimadores de mínimos quadrados."
   ]
  },
  {
   "cell_type": "markdown",
   "metadata": {},
   "source": [
    "#### Resposta: Porque os estimadores de mínimos quadrados podem ser simplificados através de derivadas, onde se pressupõe que o limite da função do erro será 0 e buscará os parâmetros mais próximos dessa região. Então é uma função que já busca os melhores parâmetros."
   ]
  }
 ],
 "metadata": {
  "kernelspec": {
   "display_name": "Python 3 (ipykernel)",
   "language": "python",
   "name": "python3"
  },
  "language_info": {
   "codemirror_mode": {
    "name": "ipython",
    "version": 3
   },
   "file_extension": ".py",
   "mimetype": "text/x-python",
   "name": "python",
   "nbconvert_exporter": "python",
   "pygments_lexer": "ipython3",
   "version": "3.10.9"
  },
  "toc": {
   "base_numbering": 1,
   "nav_menu": {},
   "number_sections": true,
   "sideBar": true,
   "skip_h1_title": true,
   "title_cell": "Índice",
   "title_sidebar": "Conteúdo",
   "toc_cell": false,
   "toc_position": {},
   "toc_section_display": true,
   "toc_window_display": false
  },
  "varInspector": {
   "cols": {
    "lenName": 16,
    "lenType": 16,
    "lenVar": 40
   },
   "kernels_config": {
    "python": {
     "delete_cmd_postfix": "",
     "delete_cmd_prefix": "del ",
     "library": "var_list.py",
     "varRefreshCmd": "print(var_dic_list())"
    },
    "r": {
     "delete_cmd_postfix": ") ",
     "delete_cmd_prefix": "rm(",
     "library": "var_list.r",
     "varRefreshCmd": "cat(var_dic_list()) "
    }
   },
   "types_to_exclude": [
    "module",
    "function",
    "builtin_function_or_method",
    "instance",
    "_Feature"
   ],
   "window_display": false
  }
 },
 "nbformat": 4,
 "nbformat_minor": 4
}
